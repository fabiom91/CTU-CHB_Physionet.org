{
 "cells": [
  {
   "cell_type": "markdown",
   "metadata": {},
   "source": [
    "# Create CSV database"
   ]
  },
  {
   "cell_type": "code",
   "execution_count": 16,
   "metadata": {},
   "outputs": [],
   "source": [
    "import pandas as pd\n",
    "import wfdb\n",
    "from os import listdir\n",
    "from tqdm import tqdm"
   ]
  },
  {
   "cell_type": "code",
   "execution_count": 17,
   "metadata": {},
   "outputs": [],
   "source": [
    "def get_all_records():\n",
    "    rec_list = []\n",
    "    for file in listdir():\n",
    "        rec = file[:file.find('.')]\n",
    "        try:\n",
    "            rec = int(rec)\n",
    "            rec_list.append(rec)\n",
    "        except:\n",
    "            pass\n",
    "    rec_list = [str(i) for i in rec_list]\n",
    "    return rec_list\n",
    "\n",
    "def create_signals_database(rec):\n",
    "    sample = wfdb.rdsamp(rec)\n",
    "    df = pd.DataFrame(sample[0], columns=['FHR','UC'])\n",
    "    df.index.name = 'seconds'\n",
    "    df.to_csv('database/signals/%s.csv' % rec)\n",
    "\n",
    "def create_ann_dataframe(rec):\n",
    "    sample = wfdb.rdsamp(rec)\n",
    "    ann = sample[1]['comments'][1:]\n",
    "    ann_dic = {}\n",
    "    for a in ann:\n",
    "        if '--' in a:\n",
    "            ann.remove(a)\n",
    "\n",
    "    for a in ann:\n",
    "        key = a[:a.find('  ')]\n",
    "        if a.find('  ') == -1:\n",
    "            key = a[:a.find(' ')]\n",
    "        inv = a[::-1]\n",
    "        value = inv[:inv.find(' ')][::-1]\n",
    "        value = float(value)\n",
    "        ann_dic[key] = [value]\n",
    "        \n",
    "    df1 = pd.DataFrame.from_dict(ann_dic).T\n",
    "    df1 = df1.rename(columns={0:rec})\n",
    "    return df1\n",
    "\n",
    "def append_ann_dataframes(df,df1):\n",
    "    rec = df1.columns[0]\n",
    "    df[rec] = df1[rec]\n",
    "    return df\n",
    "    "
   ]
  },
  {
   "cell_type": "code",
   "execution_count": 18,
   "metadata": {},
   "outputs": [
    {
     "name": "stderr",
     "output_type": "stream",
     "text": [
      "100%|██████████| 1104/1104 [01:12<00:00, 15.23it/s]\n"
     ]
    }
   ],
   "source": [
    "df = pd.DataFrame()\n",
    "for rec in tqdm(get_all_records()):\n",
    "    create_signals_database(rec)\n",
    "    df = append_ann_dataframes(df,create_ann_dataframe(rec))\n",
    "df.to_csv('database/ann_db.csv')\n",
    "\n",
    "print('DONE!')"
   ]
  },
  {
   "cell_type": "code",
   "execution_count": null,
   "metadata": {},
   "outputs": [],
   "source": []
  }
 ],
 "metadata": {
  "kernelspec": {
   "display_name": "Python 3",
   "language": "python",
   "name": "python3"
  },
  "language_info": {
   "codemirror_mode": {
    "name": "ipython",
    "version": 3
   },
   "file_extension": ".py",
   "mimetype": "text/x-python",
   "name": "python",
   "nbconvert_exporter": "python",
   "pygments_lexer": "ipython3",
   "version": "3.7.6"
  }
 },
 "nbformat": 4,
 "nbformat_minor": 4
}
